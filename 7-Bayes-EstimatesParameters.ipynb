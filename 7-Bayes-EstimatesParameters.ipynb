{
 "cells": [
  {
   "cell_type": "markdown",
   "id": "1b278859",
   "metadata": {},
   "source": [
    "# Задание 7. Нахождение точечных  оценок и параметров модели на ограниченных малых выборках экспериментальных данных"
   ]
  },
  {
   "cell_type": "code",
   "execution_count": 117,
   "id": "00d4c61b",
   "metadata": {},
   "outputs": [],
   "source": [
    "import numpy as np\n",
    "import matplotlib.pyplot as plt\n",
    "from scipy import stats"
   ]
  },
  {
   "cell_type": "markdown",
   "id": "3a9c5339",
   "metadata": {},
   "source": [
    "\n",
    "\n",
    "Параметры системы:\n"
   ]
  },
  {
   "cell_type": "code",
   "execution_count": 118,
   "id": "cfc6821d",
   "metadata": {},
   "outputs": [],
   "source": [
    "A0 = 0.2\n",
    "A1 = 0.2\n",
    "gamma0 = 0.2\n",
    "alpha0 = 0.9\n",
    "alpha1 = 0.8\n",
    "beta00 = 0.1\n",
    "beta01 = 0.2\n",
    "beta10 = -.25\n",
    "beta11 = 0.2\n",
    "mu = 1"
   ]
  },
  {
   "cell_type": "code",
   "execution_count": 119,
   "id": "d937e5c6",
   "metadata": {},
   "outputs": [],
   "source": [
    "h_01 = (1-A0)*(1-2*gamma0)*alpha0-A0 + 1\n",
    "h_02 = -beta00*(1-A0)*gamma0\n",
    "h_03 = -beta01*(1-A0)*(1-2*gamma0)\n",
    "h_11 = 2*mu*alpha0*(1-A0)*gamma0 \n",
    "h_12 = mu*((1-A1)*alpha1-A1) +1\n",
    "h_13 = -2*mu*beta00*(1-A0)*gamma0\n",
    "h_14 = -mu*(beta10*(1-A1)+2*beta01*(1-A0)*gamma0)\n",
    "h_15 = -mu*beta11*(1-A1)"
   ]
  },
  {
   "cell_type": "code",
   "execution_count": 120,
   "id": "689ab0fc",
   "metadata": {},
   "outputs": [
    {
     "name": "stdout",
     "output_type": "stream",
     "text": [
      "h_01 = 1.232 ; h_02 = -0.016 ; h_03 = -0.096 \n",
      "h_11 = 0.288 ; h_12 = 1.440 ; h_13 =  -0.032 ; h_14 =  0.136 ; h_15 = -0.160\n"
     ]
    }
   ],
   "source": [
    "print('h_01 = %5.3f'%(h_01), '; h_02 = %5.3f'%(h_02), '; h_03 = %5.3f'%(h_03), '\\nh_11 = %5.3f'%(h_11),\\\n",
    "     '; h_12 = %5.3f'%(h_12),'; h_13 =  %5.3f'%(h_13),'; h_14 =  %5.3f'%(h_14),'; h_15 = %5.3f'%(h_15))"
   ]
  },
  {
   "cell_type": "markdown",
   "id": "3553b5d9",
   "metadata": {},
   "source": [
    "Шаг по времени возьмем равным единице"
   ]
  },
  {
   "cell_type": "code",
   "execution_count": 121,
   "id": "133d689e",
   "metadata": {},
   "outputs": [],
   "source": [
    "dt = 1"
   ]
  },
  {
   "cell_type": "markdown",
   "id": "6d661a4e",
   "metadata": {},
   "source": [
    "Выделим память"
   ]
  },
  {
   "cell_type": "code",
   "execution_count": 122,
   "id": "88a0ee98",
   "metadata": {},
   "outputs": [],
   "source": [
    "N = 100\n",
    "xArr = np.zeros(N)\n",
    "yArr = np.zeros(N)"
   ]
  },
  {
   "cell_type": "markdown",
   "id": "f4a4afb2",
   "metadata": {},
   "source": [
    "Начальные условия"
   ]
  },
  {
   "cell_type": "code",
   "execution_count": 123,
   "id": "c219fd24",
   "metadata": {},
   "outputs": [],
   "source": [
    "xInit, yInit = 0.01, 0.1"
   ]
  },
  {
   "cell_type": "markdown",
   "id": "0798517c",
   "metadata": {},
   "source": [
    "Определим систему"
   ]
  },
  {
   "cell_type": "code",
   "execution_count": 124,
   "id": "de344599",
   "metadata": {},
   "outputs": [],
   "source": [
    "def system(x, y):\n",
    "    x_new = h_01*x + h_02*x**2 + h_03 *x*y\n",
    "    y_new = h_11*x + h_12*y + h_13 *x**2 +h_14*x*y + h_15 *y**2\n",
    "    return x_new, y_new"
   ]
  },
  {
   "cell_type": "markdown",
   "id": "2ac0cc6b",
   "metadata": {},
   "source": [
    "Проитерируем систему"
   ]
  },
  {
   "cell_type": "code",
   "execution_count": 125,
   "id": "855d9d7f",
   "metadata": {},
   "outputs": [],
   "source": [
    "x_curr, y_curr = xInit, yInit\n",
    "for i in range(N):\n",
    "   xArr[i], yArr[i] = system(x=x_curr,y=y_curr)\n",
    "   x_curr, y_curr = xArr[i], yArr[i]"
   ]
  },
  {
   "cell_type": "code",
   "execution_count": 126,
   "id": "51dbc2fe",
   "metadata": {},
   "outputs": [],
   "source": [
    "\n",
    "#Xeven = xArr[1::2]\n",
    "\n",
    "#Xodd = xArr[::2]\n",
    "\n",
    "\n",
    "#Yeven = yArr[1::2]\n",
    "\n",
    "#Yodd = yArr[::2]\n",
    "\n",
    "Xeven = xArr[::2]\n",
    "Xodd = xArr[1::2]\n",
    "\n",
    "Yeven = yArr[::2]\n",
    "Yodd = yArr[1::2]\n",
    "\n",
    "Zx = np.array([Xodd, Xodd**2, Xodd*Yodd])\n",
    "Zy = np.array([Xodd, Yodd, Xodd**2, Xodd*Yodd, Yodd**2])\n",
    "H0 = np.array([h_01, h_02, h_03])\n",
    "H1 = np.array([h_11, h_12, h_13, h_14, h_15])\n"
   ]
  },
  {
   "cell_type": "markdown",
   "id": "69446ac5",
   "metadata": {},
   "source": [
    "Сгенерируем и добавим шум"
   ]
  },
  {
   "cell_type": "code",
   "execution_count": 127,
   "id": "d12dc65d",
   "metadata": {},
   "outputs": [],
   "source": [
    "mmu = 0\n",
    "ssigma = 0.01\n",
    "eps = np.random.normal(mmu,ssigma, Xeven.shape[0])\n",
    "teta = np.random.normal(mmu,ssigma, Xeven.shape[0])\n",
    "\n",
    "Xeven_new = np.matmul(H0, Zx)+eps\n",
    "Yeven_new = np.matmul(H1, Zy)+teta"
   ]
  },
  {
   "cell_type": "markdown",
   "id": "ee6a2e52",
   "metadata": {},
   "source": [
    "Получим оценку параметров"
   ]
  },
  {
   "cell_type": "code",
   "execution_count": 128,
   "id": "bc117cc4",
   "metadata": {},
   "outputs": [],
   "source": [
    "H00 = np.matmul(Xeven_new,np.linalg.pinv(Zx))\n",
    "H11 = np.matmul(Yeven_new,np.linalg.pinv(Zy))"
   ]
  },
  {
   "cell_type": "code",
   "execution_count": 129,
   "id": "ab4d55a1",
   "metadata": {},
   "outputs": [
    {
     "data": {
      "text/plain": [
       "array([ 1.2599546 , -3.18487974, -0.04531508])"
      ]
     },
     "execution_count": 129,
     "metadata": {},
     "output_type": "execute_result"
    }
   ],
   "source": [
    "H00"
   ]
  },
  {
   "cell_type": "code",
   "execution_count": 130,
   "id": "1166745f",
   "metadata": {},
   "outputs": [
    {
     "data": {
      "text/plain": [
       "array([ 0.57402477,  1.42413231,  9.75777908, -0.10605612, -0.15406846])"
      ]
     },
     "execution_count": 130,
     "metadata": {},
     "output_type": "execute_result"
    }
   ],
   "source": [
    "H11"
   ]
  },
  {
   "cell_type": "markdown",
   "id": "7420ed57",
   "metadata": {},
   "source": [
    "Ошибки"
   ]
  },
  {
   "cell_type": "code",
   "execution_count": 131,
   "id": "27250a3e",
   "metadata": {},
   "outputs": [],
   "source": [
    "epsCheck = Xeven - np.matmul(H00,Zx)\n",
    "tetaCheck = Yeven - np.matmul(H11, Zy)"
   ]
  },
  {
   "cell_type": "code",
   "execution_count": 132,
   "id": "bf9ad865",
   "metadata": {},
   "outputs": [
    {
     "data": {
      "text/plain": [
       "array([-0.00568486, -0.00738464, -0.00837965, -0.00738714, -0.00400938,\n",
       "       -0.00027082,  0.00165856,  0.00196519,  0.00163011,  0.00117012])"
      ]
     },
     "execution_count": 132,
     "metadata": {},
     "output_type": "execute_result"
    }
   ],
   "source": [
    "epsCheck[:10]"
   ]
  },
  {
   "cell_type": "code",
   "execution_count": 133,
   "id": "e4eea2dc",
   "metadata": {},
   "outputs": [
    {
     "data": {
      "text/plain": [
       "array([-0.15692065, -0.29138514, -0.47767851, -0.62621586, -0.58037563,\n",
       "       -0.35253841, -0.14819361, -0.04931645, -0.01344277, -0.00156475])"
      ]
     },
     "execution_count": 133,
     "metadata": {},
     "output_type": "execute_result"
    }
   ],
   "source": [
    "tetaCheck[:10]"
   ]
  },
  {
   "cell_type": "markdown",
   "id": "cd539048",
   "metadata": {},
   "source": [
    "**Проверим ошибки на нормальность. Будем использовать критерий Колмогорова**"
   ]
  },
  {
   "cell_type": "code",
   "execution_count": 134,
   "id": "b3e044bc",
   "metadata": {},
   "outputs": [],
   "source": [
    "normed_epsCheck = (epsCheck-epsCheck.mean())/epsCheck.std()\n",
    "normed_tetaCheck = (tetaCheck-tetaCheck.mean())/tetaCheck.std()"
   ]
  },
  {
   "cell_type": "code",
   "execution_count": 137,
   "id": "f3230146",
   "metadata": {},
   "outputs": [
    {
     "name": "stdout",
     "output_type": "stream",
     "text": [
      "KstestResult(statistic=0.42404922420317226, pvalue=1.1335517812452079e-08)\n"
     ]
    }
   ],
   "source": [
    "print(stats.kstest(normed_epsCheck, 'norm'))"
   ]
  },
  {
   "cell_type": "code",
   "execution_count": 138,
   "id": "d474b5ca",
   "metadata": {},
   "outputs": [
    {
     "name": "stdout",
     "output_type": "stream",
     "text": [
      "KstestResult(statistic=0.45473232247623413, pvalue=5.751773903287353e-10)\n"
     ]
    }
   ],
   "source": [
    "print(stats.kstest(normed_tetaCheck, 'norm'))"
   ]
  },
  {
   "cell_type": "markdown",
   "id": "d5b2ce12",
   "metadata": {},
   "source": [
    "В двух случаях критерий отвергает H0 гипотезу о нормальности распределения ошибок"
   ]
  },
  {
   "cell_type": "code",
   "execution_count": 114,
   "id": "f416a844",
   "metadata": {},
   "outputs": [],
   "source": [
    "import matplotlib.pyplot as plt"
   ]
  },
  {
   "cell_type": "markdown",
   "id": "c3f2b69d",
   "metadata": {},
   "source": [
    "**Построим гистограммы ошибок**"
   ]
  },
  {
   "cell_type": "code",
   "execution_count": 115,
   "id": "5c5ff8d7",
   "metadata": {},
   "outputs": [
    {
     "data": {
      "text/plain": [
       "(array([13.,  7.,  5.,  4.,  4.,  4.,  4.,  1.,  1.,  0.,  0.,  0.,  0.,\n",
       "         1.,  0.,  0.,  0.,  0.,  0.,  0.,  0.,  0.,  0.,  0.,  0.,  2.,\n",
       "         0.,  0.,  0.,  0.,  0.,  0.,  0.,  0.,  0.,  0.,  1.,  0.,  0.,\n",
       "         0.,  0.,  1.,  0.,  0.,  0.,  0.,  1.,  0.,  0.,  1.]),\n",
       " array([-0.60833316, -0.52470908, -0.44108499, -0.3574609 , -0.27383682,\n",
       "        -0.19021273, -0.10658864, -0.02296455,  0.06065953,  0.14428362,\n",
       "         0.22790771,  0.3115318 ,  0.39515588,  0.47877997,  0.56240406,\n",
       "         0.64602814,  0.72965223,  0.81327632,  0.89690041,  0.98052449,\n",
       "         1.06414858,  1.14777267,  1.23139676,  1.31502084,  1.39864493,\n",
       "         1.48226902,  1.5658931 ,  1.64951719,  1.73314128,  1.81676537,\n",
       "         1.90038945,  1.98401354,  2.06763763,  2.15126172,  2.2348858 ,\n",
       "         2.31850989,  2.40213398,  2.48575806,  2.56938215,  2.65300624,\n",
       "         2.73663033,  2.82025441,  2.9038785 ,  2.98750259,  3.07112667,\n",
       "         3.15475076,  3.23837485,  3.32199894,  3.40562302,  3.48924711,\n",
       "         3.5728712 ]),\n",
       " <BarContainer object of 50 artists>)"
      ]
     },
     "execution_count": 115,
     "metadata": {},
     "output_type": "execute_result"
    },
    {
     "data": {
      "image/png": "[encoded data removed]",
      "text/plain": [
       "<Figure size 432x288 with 1 Axes>"
      ]
     },
     "metadata": {
      "needs_background": "light"
     },
     "output_type": "display_data"
    }
   ],
   "source": [
    "\n",
    "fig, axs = plt.subplots(1, 1, sharey=True, tight_layout=True)\n",
    "\n",
    "# We can set the number of bins with the *bins* keyword argument.\n",
    "axs.hist(normed_epsCheck, bins=50)"
   ]
  },
  {
   "cell_type": "code",
   "execution_count": 116,
   "id": "99fea37f",
   "metadata": {},
   "outputs": [
    {
     "data": {
      "text/plain": [
       "(array([ 2.,  0.,  0.,  0.,  1.,  0.,  0.,  1., 18., 25.,  0.,  0.,  0.,\n",
       "         0.,  0.,  0.,  1.,  0.,  0.,  2.]),\n",
       " array([-2.99377521, -2.66542671, -2.3370782 , -2.00872969, -1.68038119,\n",
       "        -1.35203268, -1.02368417, -0.69533566, -0.36698716, -0.03863865,\n",
       "         0.28970986,  0.61805836,  0.94640687,  1.27475538,  1.60310389,\n",
       "         1.93145239,  2.2598009 ,  2.58814941,  2.91649792,  3.24484642,\n",
       "         3.57319493]),\n",
       " <BarContainer object of 20 artists>)"
      ]
     },
     "execution_count": 116,
     "metadata": {},
     "output_type": "execute_result"
    },
    {
     "data": {
      "image/png": "[encoded data removed]",
      "text/plain": [
       "<Figure size 432x288 with 1 Axes>"
      ]
     },
     "metadata": {
      "needs_background": "light"
     },
     "output_type": "display_data"
    }
   ],
   "source": [
    "\n",
    "fig, axs = plt.subplots(1, 1, sharey=True, tight_layout=True)\n",
    "\n",
    "# We can set the number of bins with the *bins* keyword argument.\n",
    "axs.hist(normed_tetaCheck, bins=20)"
   ]
  }
 ],
 "metadata": {
  "kernelspec": {
   "display_name": "Python 3 (ipykernel)",
   "language": "python",
   "name": "python3"
  },
  "language_info": {
   "codemirror_mode": {
    "name": "ipython",
    "version": 3
   },
   "file_extension": ".py",
   "mimetype": "text/x-python",
   "name": "python",
   "nbconvert_exporter": "python",
   "pygments_lexer": "ipython3",
   "version": "3.8.12"
  }
 },
 "nbformat": 4,
 "nbformat_minor": 5
}
