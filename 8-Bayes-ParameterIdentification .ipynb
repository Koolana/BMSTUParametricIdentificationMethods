{
 "cells": [
  {
   "cell_type": "markdown",
   "id": "a31cc8ab",
   "metadata": {},
   "source": [
    "# Задание 8. Идентификация параметров развития раковой опухоли"
   ]
  },
  {
   "cell_type": "code",
   "execution_count": 247,
   "id": "14ce80dd",
   "metadata": {},
   "outputs": [],
   "source": [
    "import numpy as np"
   ]
  },
  {
   "cell_type": "markdown",
   "id": "52e6b4a7",
   "metadata": {},
   "source": [
    " **Определим систему** \n",
    " * x - объем опухоли\n",
    " * y - объем эндотелия\n",
    " * z - концентрация ингибитора"
   ]
  },
  {
   "cell_type": "code",
   "execution_count": 248,
   "id": "7ded5944",
   "metadata": {},
   "outputs": [],
   "source": [
    "def system(x, y, z, u, lambda1, b, d, e, lambda3):\n",
    "    x_new = x - lambda1 * x * np.log(x/y)\n",
    "    y_new = b * x + y - d * x**(2/3) * y - e *y*z\n",
    "    z_new = z = lambda3*z + u\n",
    "    return x_new, y_new, z_new"
   ]
  },
  {
   "cell_type": "markdown",
   "id": "230e5b55",
   "metadata": {},
   "source": [
    "**Определим праметры системы**"
   ]
  },
  {
   "cell_type": "code",
   "execution_count": 249,
   "id": "88b09492",
   "metadata": {},
   "outputs": [],
   "source": [
    "lambda1_c = 0.0834\n",
    "b_c = 5.85\n",
    "d_c = 0.00873\n",
    "e_c = 0.66\n",
    "lambda3_c = 1.7\n",
    "u_c = 1\n",
    "\n",
    "deltaT = 1\n",
    "\n",
    "lambda1_d = -lambda1_c * deltaT\n",
    "b_d = b_c * deltaT\n",
    "d_d = -d_c * deltaT\n",
    "e_d = -e_c * deltaT\n",
    "lambda3_d = 1 - lambda3_c * deltaT"
   ]
  },
  {
   "cell_type": "code",
   "execution_count": 250,
   "id": "fca4d83f",
   "metadata": {},
   "outputs": [],
   "source": [
    "N = 100\n",
    "xArr = np.zeros(N)\n",
    "yArr = np.zeros(N)\n",
    "zArr = np.zeros(N)\n",
    "Uarr = np.ones(N)*deltaT\n",
    "\n",
    "eps = np.random.normal(0,0.001, xArr.shape[0])\n",
    "theta = np.random.normal(0,0.001, yArr.shape[0])\n",
    "ksi = np.random.normal(0,0.001, zArr.shape[0])\n",
    "\n",
    "xInit, yInit,zInit = 0.1, 0.001, 0.1\n",
    "\n",
    "x_curr, y_curr, z_curr = xInit, yInit, zInit\n",
    "i = 0\n",
    "while x_curr > 1e-5:\n",
    "   xArr[i], yArr[i], zArr[i] = system(x=x_curr, y=y_curr, z=z_curr, u=Uarr[i], \\\n",
    "                                      lambda1=lambda1_d, b=b_d, d=d_d, e=e_d, lambda3=lambda3_d)\n",
    "   x_curr, y_curr, z_curr = xArr[i] +eps[i], yArr[i]+theta[i], zArr[i]+ksi[i]\n",
    "   i += 1 "
   ]
  },
  {
   "cell_type": "code",
   "execution_count": 251,
   "id": "fc6d63cb",
   "metadata": {},
   "outputs": [],
   "source": [
    "if i %2 == 0:\n",
    "    xArr = xArr[:i]\n",
    "    yArr = yArr[:i]\n",
    "    zArr = zArr[:i]\n",
    "    Uarr = Uarr[:i]\n",
    "else:\n",
    "    xArr = xArr[:i-1]\n",
    "    yArr = yArr[:i-1]\n",
    "    zArr = zArr[:i-1]\n",
    "    Uarr = Uarr[:i-1]"
   ]
  },
  {
   "cell_type": "code",
   "execution_count": 252,
   "id": "d40fa66a",
   "metadata": {},
   "outputs": [],
   "source": [
    "x_even = xArr[1::2]\n",
    "x_odd = xArr[::2]\n",
    "\n",
    "y_even = yArr[1::2]\n",
    "y_odd = yArr[::2]\n",
    "\n",
    "z_even = zArr[1::2]\n",
    "z_odd = zArr[::2]\n",
    "\n",
    "u_odd = Uarr[::2]\n"
   ]
  },
  {
   "cell_type": "code",
   "execution_count": 253,
   "id": "53dc5c3a",
   "metadata": {},
   "outputs": [],
   "source": [
    "W1 = np.array([x_odd,\n",
    "              x_odd* np.log(x_odd/y_odd)])"
   ]
  },
  {
   "cell_type": "code",
   "execution_count": 254,
   "id": "a89fc4b7",
   "metadata": {},
   "outputs": [],
   "source": [
    "W2 = np.array([x_odd,\n",
    "               y_odd,\n",
    "               x_odd**(2/3)*y_odd,\n",
    "               y_odd*z_odd])"
   ]
  },
  {
   "cell_type": "code",
   "execution_count": 255,
   "id": "007a92b6",
   "metadata": {},
   "outputs": [],
   "source": [
    "W3 = np.array([z_odd,\n",
    "              u_odd])"
   ]
  },
  {
   "cell_type": "code",
   "execution_count": 256,
   "id": "8b158b0a",
   "metadata": {},
   "outputs": [
    {
     "name": "stdout",
     "output_type": "stream",
     "text": [
      "H1_d = (1,lambda1_d) =  [1.01570072 0.0874918 ]\n",
      "Истинное значение lambda1_d =  -0.0834\n"
     ]
    }
   ],
   "source": [
    "h1 = np.matmul(x_even,np.linalg.pinv(W1))\n",
    "print('H1_d = (1,lambda1_d) = ', h1)\n",
    "print('Истинное значение lambda1_d = ', lambda1_d)"
   ]
  },
  {
   "cell_type": "code",
   "execution_count": 257,
   "id": "8f3c4437",
   "metadata": {},
   "outputs": [
    {
     "name": "stdout",
     "output_type": "stream",
     "text": [
      "H2_d = (b_d,1, d_d, e_d) =  [6.02186387 1.0796871  0.08495661 0.52493313]\n",
      "Истинное значение b_d =  5.85\n",
      "Истинное значение d_d =  -0.00873\n",
      "Истинное значение e_d =  -0.66\n"
     ]
    }
   ],
   "source": [
    "h2 = np.matmul(y_even,np.linalg.pinv(W2))\n",
    "print('H2_d = (b_d,1, d_d, e_d) = ', h2)\n",
    "print('Истинное значение b_d = ', b_d)\n",
    "print('Истинное значение d_d = ', d_d)\n",
    "print('Истинное значение e_d = ', e_d)"
   ]
  },
  {
   "cell_type": "code",
   "execution_count": 258,
   "id": "d9e6419e",
   "metadata": {},
   "outputs": [
    {
     "name": "stdout",
     "output_type": "stream",
     "text": [
      "H3_d = (lambda3_d,1) =  [-0.70617251  1.00457126]\n",
      "Истинное значение lambda3_d =  -0.7\n"
     ]
    }
   ],
   "source": [
    "h3 = np.matmul(z_even,np.linalg.pinv(W3))\n",
    "print('H3_d = (lambda3_d,1) = ', h3)\n",
    "print('Истинное значение lambda3_d = ', lambda3_d)"
   ]
  }
 ],
 "metadata": {
  "kernelspec": {
   "display_name": "Python 3 (ipykernel)",
   "language": "python",
   "name": "python3"
  },
  "language_info": {
   "codemirror_mode": {
    "name": "ipython",
    "version": 3
   },
   "file_extension": ".py",
   "mimetype": "text/x-python",
   "name": "python",
   "nbconvert_exporter": "python",
   "pygments_lexer": "ipython3",
   "version": "3.8.12"
  }
 },
 "nbformat": 4,
 "nbformat_minor": 5
}
